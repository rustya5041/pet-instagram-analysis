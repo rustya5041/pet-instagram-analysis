{
 "cells": [
  {
   "cell_type": "markdown",
   "metadata": {},
   "source": [
    "This script processes the data from the Instagram followers and following JSON files and creates dataframes to check the ppl that you follow but they don't follow you back and vice versa."
   ]
  },
  {
   "cell_type": "code",
   "execution_count": 22,
   "metadata": {},
   "outputs": [],
   "source": [
    "import json \n",
    "import pandas as pd\n",
    "\n",
    "def parse_follow_data(folder_path, fol_type=['i_follow', 'follows_me']):\n",
    "    \"\"\"\n",
    "    Parse followers/following json files\n",
    "        :param folder_path: path to folder with json files; e.g. '/Users/rustya/Downloads/inst/connections/followers_and_following'\n",
    "        :param fol_type: type of followers/following; e.g. ['i_follow', 'follows_me']\n",
    "    returns: dataframe with followers/following\n",
    "    \"\"\"\n",
    "    path = f'{folder_path}/followers_1.json' if fol_type == 'follows_me' else f'{folder_path}/following.json'\n",
    "\n",
    "    with open(path) as f:\n",
    "        data = json.load(f)\n",
    "        data = data['relationships_following'] if fol_type == 'i_follow' else data\n",
    "\n",
    "    d = {}\n",
    "    df = pd.DataFrame(columns=['link', 'username', 'timestamp'])\n",
    "\n",
    "    for row in data:\n",
    "        d['link'] = row['string_list_data'][0]['href']\n",
    "        d['username'] = row['string_list_data'][0]['value']\n",
    "        d['timestamp'] = row['string_list_data'][0]['timestamp']\n",
    "        df = pd.concat([df, pd.DataFrame(d, index=[0])], ignore_index=True)\n",
    "        df[fol_type] = 1\n",
    "    \n",
    "    df[f'date_{fol_type}'] = pd.to_datetime(df['timestamp'], unit='s').dt.date\n",
    "    df = df.drop(columns=['timestamp']).sort_values([f'date_{fol_type}'], ascending=False)\n",
    "    \n",
    "    return df"
   ]
  },
  {
   "cell_type": "code",
   "execution_count": 23,
   "metadata": {},
   "outputs": [],
   "source": [
    "fol_folder_path = 'your/path/here' # should end with /followers_and_following"
   ]
  },
  {
   "cell_type": "code",
   "execution_count": 24,
   "metadata": {},
   "outputs": [],
   "source": [
    "following = parse_follow_data(fol_folder_path, fol_type='i_follow')\n",
    "followers = parse_follow_data(fol_folder_path, fol_type='follows_me')\n",
    "\n",
    "joined = pd.merge(following, followers, on=['username', 'link'], how='outer').fillna(0)"
   ]
  },
  {
   "cell_type": "code",
   "execution_count": null,
   "metadata": {},
   "outputs": [],
   "source": [
    "follows_me_but_i_dont = joined[(joined['i_follow'] == 0) & (joined['follows_me'] == 1)]\n",
    "print(f\"Num of followers that I don't follow back: {len(follows_me_but_i_dont)}\")\n",
    "follows_me_but_i_dont"
   ]
  },
  {
   "cell_type": "code",
   "execution_count": null,
   "metadata": {},
   "outputs": [],
   "source": [
    "i_follow_but_they_dont = joined[(joined['i_follow'] == 1) & (joined['follows_me'] == 0)]\n",
    "print(f\"Num of followers that don't follow me back: {len(i_follow_but_they_dont)}\")\n",
    "i_follow_but_they_dont"
   ]
  }
 ],
 "metadata": {
  "kernelspec": {
   "display_name": "Python 3",
   "language": "python",
   "name": "python3"
  },
  "language_info": {
   "codemirror_mode": {
    "name": "ipython",
    "version": 3
   },
   "file_extension": ".py",
   "mimetype": "text/x-python",
   "name": "python",
   "nbconvert_exporter": "python",
   "pygments_lexer": "ipython3",
   "version": "3.12.0"
  }
 },
 "nbformat": 4,
 "nbformat_minor": 2
}
